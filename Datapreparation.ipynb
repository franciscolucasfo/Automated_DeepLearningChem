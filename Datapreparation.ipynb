{
 "cells": [
  {
   "cell_type": "code",
   "execution_count": null,
   "metadata": {},
   "outputs": [],
   "source": [
    "from functions.dataprep import *\n",
    "import os"
   ]
  },
  {
   "cell_type": "code",
   "execution_count": null,
   "metadata": {},
   "outputs": [],
   "source": [
    "x_col = \"final_smiles\"\n",
    "y_col = \"Outcome\"\n",
    "pretrained_model = \"unikei/bert-base-smiles\"\n",
    "max_length = 128\n",
    "\n",
    "for file in os.listdir(\"./datasets\"):\n",
    "    if file.endswith(\".csv\"):\n",
    "        print(f\"Processing {file}\")\n",
    "        df = pd.read_csv(f\"datasets/{file}\")\n",
    "        X, y = define_x_y(df, x_col, y_col)\n",
    "        tokenize_smiles(X, y, pretrained_model, max_length, file)\n",
    "        print(\"Done\")\n"
   ]
  },
  {
   "cell_type": "code",
   "execution_count": null,
   "metadata": {},
   "outputs": [],
   "source": [
    "# Call the split_data function\n",
    "split_data(\"datasets/tokens\", train_size=0.8, val_size=0.1, test_size=0.1, random_state=42)"
   ]
  }
 ],
 "metadata": {
  "kernelspec": {
   "display_name": "ia",
   "language": "python",
   "name": "python3"
  },
  "language_info": {
   "codemirror_mode": {
    "name": "ipython",
    "version": 3
   },
   "file_extension": ".py",
   "mimetype": "text/x-python",
   "name": "python",
   "nbconvert_exporter": "python",
   "pygments_lexer": "ipython3",
   "version": "3.10.6"
  }
 },
 "nbformat": 4,
 "nbformat_minor": 2
}
